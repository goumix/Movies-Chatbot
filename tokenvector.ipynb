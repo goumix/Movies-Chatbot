{
 "cells": [
  {
   "cell_type": "code",
   "execution_count": 8,
   "metadata": {},
   "outputs": [
    {
     "name": "stdout",
     "output_type": "stream",
     "text": [
      "['american' 'club' 'drive' 'fiction' 'fight' 'forrest' 'gump' 'history'\n",
      " 'pulp']\n",
      "[[0 0 0 1 0 0 0 0 1]\n",
      " [0 0 0 0 0 1 1 0 0]\n",
      " [0 1 0 0 1 0 0 0 0]\n",
      " [1 0 0 0 0 0 0 1 0]\n",
      " [0 0 1 0 0 0 0 0 0]]\n"
     ]
    }
   ],
   "source": [
    "import pandas as pd\n",
    "from nltk.tokenize import word_tokenize\n",
    "from sklearn.feature_extraction.text import CountVectorizer\n",
    "\n",
    "\n",
    "# text = \"I would really like to tokenize and vectorize this sentence!\" \n",
    "\n",
    "# tokenize the text \n",
    "# tokenized = nltk.tokenize.word_tokenize(text)\n",
    "\n",
    "\n",
    "# vectorize the tokens \n",
    "# vectorizer = CountVectorizer()\n",
    "# vectorized = vectorizer.fit_transform(tokenized).toarray()\n",
    "\n",
    "# print(tokenized)\n",
    "# print(vectorized)\n",
    "\n",
    "# Lire le fichier CSV avec pandas\n",
    "df = pd.read_csv('films.csv')\n",
    "\n",
    "# Sélectionner la colonne contenant le texte à traiter\n",
    "text_column = 'Titre' \n",
    "\n",
    "text_data = df[text_column].tolist()\n",
    "\n",
    "# Tokenisation avec NLTK\n",
    "tokenized_data = [word_tokenize(text) for text in text_data]\n",
    "\n",
    "# Vectorisation avec CountVectorizer de scikit-learn\n",
    "vectorizer = CountVectorizer()\n",
    "vectorized_data = vectorizer.fit_transform([' '.join(tokens) for tokens in tokenized_data])\n",
    "\n",
    "# Afficher les mots vectorisés\n",
    "print(vectorizer.get_feature_names_out())\n",
    "\n",
    "# Afficher les vecteurs correspondants\n",
    "print(vectorized_data.toarray())"
   ]
  }
 ],
 "metadata": {
  "kernelspec": {
   "display_name": "Python 3",
   "language": "python",
   "name": "python3"
  },
  "language_info": {
   "codemirror_mode": {
    "name": "ipython",
    "version": 3
   },
   "file_extension": ".py",
   "mimetype": "text/x-python",
   "name": "python",
   "nbconvert_exporter": "python",
   "pygments_lexer": "ipython3",
   "version": "3.9.6"
  }
 },
 "nbformat": 4,
 "nbformat_minor": 2
}
